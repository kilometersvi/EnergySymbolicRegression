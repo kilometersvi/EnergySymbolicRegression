{
 "cells": [
  {
   "cell_type": "code",
   "execution_count": null,
   "metadata": {},
   "outputs": [],
   "source": [
    "from models.hopfield import *\n",
    "import numpy as np"
   ]
  },
  {
   "cell_type": "code",
   "execution_count": null,
   "metadata": {},
   "outputs": [],
   "source": [
    "# Example usage\n",
    "Q = np.array([[2, -1], [-1, 2]])  # Replace with your Q matrix\n",
    "V_max, V_min = GHN.find_extreme_eigenvectors(Q)\n",
    "print(\"V that maximizes energy:\", V_max)\n",
    "print(\"V that minimizes energy:\", V_min)\n",
    "\n",
    "k = len(V_max)/2\n",
    "\n",
    "closest_possible_V_max = GHN.closest_binary_eigenvector(V_max, k)\n",
    "closest_possible_V_min = GHN.closest_binary_eigenvector(V_min, k)\n",
    "\n",
    "\n",
    "print(\"binary V that maximizes energy:\", closest_possible_V_max)\n",
    "print(\"binary V that minimizes energy:\", closest_possible_V_min)\n",
    "\n"
   ]
  }
 ],
 "metadata": {
  "language_info": {
   "name": "python"
  }
 },
 "nbformat": 4,
 "nbformat_minor": 2
}
